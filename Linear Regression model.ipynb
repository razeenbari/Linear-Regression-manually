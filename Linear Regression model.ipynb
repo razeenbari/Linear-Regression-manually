{
 "cells": [
  {
   "cell_type": "code",
   "execution_count": 1,
   "metadata": {},
   "outputs": [],
   "source": [
    "def LB(x,y):\n",
    "    import numpy as np\n",
    "    import pandas as pd\n",
    "    import matplotlib as plt\n",
    "    import matplotlib.pyplot as plt\n",
    "    x = np.array(x)\n",
    "    y = np.array(y)\n",
    "    #Probability\n",
    "    xm = np.mean(x) #for mean of x\n",
    "    ym = np.mean(y) #for mean of y\n",
    "    x_xm = x-xm #for x - x.mean\n",
    "    y_ym = y-ym #for y - y.mean\n",
    "    x_xm_2 = x_xm ** 2 #for (x-xmean)**2 \n",
    "    y_ym_2 = y_ym ** 2 #for (y-ymean)**2\n",
    "    product = x_xm * y_ym #for multiply x-xmean and y-ymean\n",
    "    SSxy = np.sum(product) #for sum of x-xmean and y-ymean\n",
    "    SSxx = np.sum(x_xm_2) #for sum of (x-xmean)**2\n",
    "    SSyy = np.sum(y_ym_2) #for sum of (y-ymean)**2\n",
    "    #Calculating slope and y-intercept\n",
    "    b = SSxy/SSxx\n",
    "    a= ym - (b*xm)\n",
    "    print(\"value of 'a' is: \",a)\n",
    "    print(\"value of 'b' is: \",b)\n",
    "    #Predicting values\n",
    "    test=[]\n",
    "    for i in x:\n",
    "        test.append(b*i + a)\n",
    "    #coefficient of determination\n",
    "    r=SSxy/np.sqrt(SSyy*SSxx)\n",
    "    print(\"value of 'r' is: \",r)\n",
    "    #for normalizaing the value into positive and gives it a range b/w 0 to \n",
    "    r2=r**2\n",
    "    print(\"value of r.sq is:\", r2)\n",
    "    #percetage of r2\n",
    "    perc_r2 = r2 * 100\n",
    "    print(\"percentage of r.sq is: \" ,perc_r2)\n",
    "   #for finding error\n",
    "    y_test = y-test\n",
    "    y_test_sq = y_test**2 #FOR sq y_test value\n",
    "    total_y_test_sq = np.sum(y_test_sq)\n",
    "    #for count of numbers:\n",
    "    N= len(x)\n",
    "    #R.M.E\n",
    "    RME=np.sqrt((total_y_test_sq)/N)\n",
    "    print('R.M.E is: ',RME)\n",
    "    #plotting data\n",
    "    plt.scatter(x,y,color=\"r\")\n",
    "    plt.plot(x,test,color=\"g\")\n",
    "    plt.xlabel(\"first parameter\")\n",
    "    plt.ylabel(\"second parameter\")\n",
    "    plt.show()"
   ]
  },
  {
   "cell_type": "code",
   "execution_count": null,
   "metadata": {},
   "outputs": [],
   "source": []
  }
 ],
 "metadata": {
  "kernelspec": {
   "display_name": "Python 3",
   "language": "python",
   "name": "python3"
  },
  "language_info": {
   "codemirror_mode": {
    "name": "ipython",
    "version": 3
   },
   "file_extension": ".py",
   "mimetype": "text/x-python",
   "name": "python",
   "nbconvert_exporter": "python",
   "pygments_lexer": "ipython3",
   "version": "3.7.3"
  }
 },
 "nbformat": 4,
 "nbformat_minor": 2
}
